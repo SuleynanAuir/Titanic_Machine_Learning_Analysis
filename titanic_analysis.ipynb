{
 "cells": [
  {
   "cell_type": "markdown",
   "metadata": {},
   "source": [
    "# Machine Learning Analysis of Titanic"
   ]
  },
  {
   "cell_type": "markdown",
   "metadata": {},
   "source": [
    "## 1. Import Necessary Library"
   ]
  },
  {
   "cell_type": "code",
   "execution_count": 167,
   "metadata": {},
   "outputs": [],
   "source": [
    "import numpy as np\n",
    "import pandas as pd\n",
    "import matplotlib.pyplot as plt\n",
    "import sklearn\n",
    "import seaborn as sns"
   ]
  },
  {
   "cell_type": "markdown",
   "metadata": {},
   "source": [
    "## 2. Data Preprocessing"
   ]
  },
  {
   "cell_type": "markdown",
   "metadata": {},
   "source": [
    "### 2.1 Preview: Overound Understanding of Data "
   ]
  },
  {
   "cell_type": "code",
   "execution_count": 168,
   "metadata": {},
   "outputs": [
    {
     "data": {
      "text/html": [
       "<div>\n",
       "<style scoped>\n",
       "    .dataframe tbody tr th:only-of-type {\n",
       "        vertical-align: middle;\n",
       "    }\n",
       "\n",
       "    .dataframe tbody tr th {\n",
       "        vertical-align: top;\n",
       "    }\n",
       "\n",
       "    .dataframe thead th {\n",
       "        text-align: right;\n",
       "    }\n",
       "</style>\n",
       "<table border=\"1\" class=\"dataframe\">\n",
       "  <thead>\n",
       "    <tr style=\"text-align: right;\">\n",
       "      <th></th>\n",
       "      <th>pclass</th>\n",
       "      <th>survived</th>\n",
       "      <th>name</th>\n",
       "      <th>sex</th>\n",
       "      <th>age</th>\n",
       "      <th>sibsp</th>\n",
       "      <th>parch</th>\n",
       "      <th>ticket</th>\n",
       "      <th>fare</th>\n",
       "      <th>cabin</th>\n",
       "      <th>embarked</th>\n",
       "      <th>boat</th>\n",
       "      <th>body</th>\n",
       "      <th>home.dest</th>\n",
       "    </tr>\n",
       "  </thead>\n",
       "  <tbody>\n",
       "    <tr>\n",
       "      <th>0</th>\n",
       "      <td>1</td>\n",
       "      <td>1</td>\n",
       "      <td>Allen, Miss. Elisabeth Walton</td>\n",
       "      <td>female</td>\n",
       "      <td>29.0000</td>\n",
       "      <td>0</td>\n",
       "      <td>0</td>\n",
       "      <td>24160</td>\n",
       "      <td>211.3375</td>\n",
       "      <td>B5</td>\n",
       "      <td>S</td>\n",
       "      <td>2</td>\n",
       "      <td>NaN</td>\n",
       "      <td>St Louis, MO</td>\n",
       "    </tr>\n",
       "    <tr>\n",
       "      <th>1</th>\n",
       "      <td>1</td>\n",
       "      <td>1</td>\n",
       "      <td>Allison, Master. Hudson Trevor</td>\n",
       "      <td>male</td>\n",
       "      <td>0.9167</td>\n",
       "      <td>1</td>\n",
       "      <td>2</td>\n",
       "      <td>113781</td>\n",
       "      <td>151.5500</td>\n",
       "      <td>C22 C26</td>\n",
       "      <td>S</td>\n",
       "      <td>11</td>\n",
       "      <td>NaN</td>\n",
       "      <td>Montreal, PQ / Chesterville, ON</td>\n",
       "    </tr>\n",
       "    <tr>\n",
       "      <th>2</th>\n",
       "      <td>1</td>\n",
       "      <td>0</td>\n",
       "      <td>Allison, Miss. Helen Loraine</td>\n",
       "      <td>female</td>\n",
       "      <td>2.0000</td>\n",
       "      <td>1</td>\n",
       "      <td>2</td>\n",
       "      <td>113781</td>\n",
       "      <td>151.5500</td>\n",
       "      <td>C22 C26</td>\n",
       "      <td>S</td>\n",
       "      <td>NaN</td>\n",
       "      <td>NaN</td>\n",
       "      <td>Montreal, PQ / Chesterville, ON</td>\n",
       "    </tr>\n",
       "    <tr>\n",
       "      <th>3</th>\n",
       "      <td>1</td>\n",
       "      <td>0</td>\n",
       "      <td>Allison, Mr. Hudson Joshua Creighton</td>\n",
       "      <td>male</td>\n",
       "      <td>30.0000</td>\n",
       "      <td>1</td>\n",
       "      <td>2</td>\n",
       "      <td>113781</td>\n",
       "      <td>151.5500</td>\n",
       "      <td>C22 C26</td>\n",
       "      <td>S</td>\n",
       "      <td>NaN</td>\n",
       "      <td>135.0</td>\n",
       "      <td>Montreal, PQ / Chesterville, ON</td>\n",
       "    </tr>\n",
       "    <tr>\n",
       "      <th>4</th>\n",
       "      <td>1</td>\n",
       "      <td>0</td>\n",
       "      <td>Allison, Mrs. Hudson J C (Bessie Waldo Daniels)</td>\n",
       "      <td>female</td>\n",
       "      <td>25.0000</td>\n",
       "      <td>1</td>\n",
       "      <td>2</td>\n",
       "      <td>113781</td>\n",
       "      <td>151.5500</td>\n",
       "      <td>C22 C26</td>\n",
       "      <td>S</td>\n",
       "      <td>NaN</td>\n",
       "      <td>NaN</td>\n",
       "      <td>Montreal, PQ / Chesterville, ON</td>\n",
       "    </tr>\n",
       "  </tbody>\n",
       "</table>\n",
       "</div>"
      ],
      "text/plain": [
       "   pclass  survived                                             name     sex  \\\n",
       "0       1         1                    Allen, Miss. Elisabeth Walton  female   \n",
       "1       1         1                   Allison, Master. Hudson Trevor    male   \n",
       "2       1         0                     Allison, Miss. Helen Loraine  female   \n",
       "3       1         0             Allison, Mr. Hudson Joshua Creighton    male   \n",
       "4       1         0  Allison, Mrs. Hudson J C (Bessie Waldo Daniels)  female   \n",
       "\n",
       "       age  sibsp  parch  ticket      fare    cabin embarked boat   body  \\\n",
       "0  29.0000      0      0   24160  211.3375       B5        S    2    NaN   \n",
       "1   0.9167      1      2  113781  151.5500  C22 C26        S   11    NaN   \n",
       "2   2.0000      1      2  113781  151.5500  C22 C26        S  NaN    NaN   \n",
       "3  30.0000      1      2  113781  151.5500  C22 C26        S  NaN  135.0   \n",
       "4  25.0000      1      2  113781  151.5500  C22 C26        S  NaN    NaN   \n",
       "\n",
       "                         home.dest  \n",
       "0                     St Louis, MO  \n",
       "1  Montreal, PQ / Chesterville, ON  \n",
       "2  Montreal, PQ / Chesterville, ON  \n",
       "3  Montreal, PQ / Chesterville, ON  \n",
       "4  Montreal, PQ / Chesterville, ON  "
      ]
     },
     "execution_count": 168,
     "metadata": {},
     "output_type": "execute_result"
    }
   ],
   "source": [
    "# use two copy of datas\n",
    "# the library's file outlines 'read_excel' output is DataFrame type\n",
    "data = pd.read_excel('titanic.xlsx')\n",
    "raw_data = pd.read_excel('titanic.xlsx')\n",
    "\n",
    "data.head()"
   ]
  },
  {
   "cell_type": "markdown",
   "metadata": {},
   "source": [
    "view data's stat info & description"
   ]
  },
  {
   "cell_type": "markdown",
   "metadata": {},
   "source": [
    "### 2.2 More Detailed: Clear Discription of Data (Types/Null)"
   ]
  },
  {
   "cell_type": "code",
   "execution_count": 169,
   "metadata": {},
   "outputs": [
    {
     "name": "stdout",
     "output_type": "stream",
     "text": [
      "Data Shape: (1309, 14)\n",
      "\n",
      "Columns: Index(['pclass', 'survived', 'name', 'sex', 'age', 'sibsp', 'parch', 'ticket',\n",
      "       'fare', 'cabin', 'embarked', 'boat', 'body', 'home.dest'],\n",
      "      dtype='object')\n",
      "\n",
      "<class 'pandas.core.frame.DataFrame'>\n",
      "RangeIndex: 1309 entries, 0 to 1308\n",
      "Data columns (total 14 columns):\n",
      " #   Column     Non-Null Count  Dtype  \n",
      "---  ------     --------------  -----  \n",
      " 0   pclass     1309 non-null   int64  \n",
      " 1   survived   1309 non-null   int64  \n",
      " 2   name       1309 non-null   object \n",
      " 3   sex        1309 non-null   object \n",
      " 4   age        1046 non-null   float64\n",
      " 5   sibsp      1309 non-null   int64  \n",
      " 6   parch      1309 non-null   int64  \n",
      " 7   ticket     1309 non-null   object \n",
      " 8   fare       1308 non-null   float64\n",
      " 9   cabin      295 non-null    object \n",
      " 10  embarked   1307 non-null   object \n",
      " 11  boat       486 non-null    object \n",
      " 12  body       121 non-null    float64\n",
      " 13  home.dest  745 non-null    object \n",
      "dtypes: float64(3), int64(4), object(7)\n",
      "memory usage: 143.3+ KB\n",
      "Info: None\n",
      "\n",
      "Describe:             pclass     survived          age        sibsp        parch  \\\n",
      "count  1309.000000  1309.000000  1046.000000  1309.000000  1309.000000   \n",
      "mean      2.294882     0.381971    29.881135     0.498854     0.385027   \n",
      "std       0.837836     0.486055    14.413500     1.041658     0.865560   \n",
      "min       1.000000     0.000000     0.166700     0.000000     0.000000   \n",
      "25%       2.000000     0.000000    21.000000     0.000000     0.000000   \n",
      "50%       3.000000     0.000000    28.000000     0.000000     0.000000   \n",
      "75%       3.000000     1.000000    39.000000     1.000000     0.000000   \n",
      "max       3.000000     1.000000    80.000000     8.000000     9.000000   \n",
      "\n",
      "              fare        body  \n",
      "count  1308.000000  121.000000  \n",
      "mean     33.295479  160.809917  \n",
      "std      51.758668   97.696922  \n",
      "min       0.000000    1.000000  \n",
      "25%       7.895800   72.000000  \n",
      "50%      14.454200  155.000000  \n",
      "75%      31.275000  256.000000  \n",
      "max     512.329200  328.000000  \n"
     ]
    }
   ],
   "source": [
    "print(f'Data Shape: {data.shape}\\n')\n",
    "print(f'Columns: {data.columns}\\n')\n",
    "print(f'Info: {data.info()}\\n')\n",
    "print(f'Describe: {data.describe()}')"
   ]
  },
  {
   "cell_type": "markdown",
   "metadata": {},
   "source": [
    "we find that the column `Non-Null Count` assigned: **if the Non-Null Count != data.shape[0]**, it means this feature attribute column **has null value**. like the following columns have null-values, some even has a large amount of null value:\n",
    "```\n",
    "- 4   age        1046 non-null   float64\n",
    "- 8   fare       1308 non-null   float64\n",
    "- 9   cabin      295 non-null    object \n",
    "- 10  embarked   1307 non-null   object\n",
    "- 11  boat       486 non-null    object\n",
    "- 12  body       121 non-null    float64\n",
    "- 13  home.dest  745 non-null    object\n",
    "```\n"
   ]
  },
  {
   "cell_type": "markdown",
   "metadata": {},
   "source": [
    "However, although we know some of the columns have null-values, `but we dont directly cope with these null values`, instead, we make a simple visualization for these data.\n",
    "\n",
    "### 2.3 Visualization: Count Visualization of Numerical / Categorical Data"
   ]
  },
  {
   "cell_type": "code",
   "execution_count": 170,
   "metadata": {},
   "outputs": [
    {
     "data": {
      "image/png": "[encoded data removed]",
      "text/plain": [
       "<Figure size 2000x1500 with 20 Axes>"
      ]
     },
     "metadata": {},
     "output_type": "display_data"
    }
   ],
   "source": [
    "sns.set(style=\"whitegrid\")\n",
    "\n",
    "fig, axes = plt.subplots(4, 5, figsize=(20, 15))\n",
    "\n",
    "# age\n",
    "sns.histplot(data['age'].dropna(), kde=True, bins=30, color='skyblue', ax=axes[0, 0])\n",
    "axes[0, 0].set_title('Age Distribution')\n",
    "axes[0, 0].set_xlabel('Age')\n",
    "axes[0, 0].set_ylabel('Frequency')\n",
    "\n",
    "# sibps\n",
    "sns.histplot(data['sibsp'], kde=False, bins=10, color='salmon', ax=axes[0, 1])\n",
    "axes[0, 1].set_title('Siblings/Spouses Aboard Distribution')\n",
    "axes[0, 1].set_xlabel('Number of Siblings/Spouses')\n",
    "axes[0, 1].set_ylabel('Frequency')\n",
    "\n",
    "# parch\n",
    "sns.histplot(data['parch'], kde=False, bins=10, color='green', ax=axes[0, 2])\n",
    "axes[0, 2].set_title('Parents/Children Aboard Distribution')\n",
    "axes[0, 2].set_xlabel('Number of Parents/Children')\n",
    "axes[0, 2].set_ylabel('Frequency')\n",
    "\n",
    "\n",
    "# fare\n",
    "sns.histplot(data['fare'], kde=True, bins=30, color='purple', ax=axes[0, 3])\n",
    "axes[0, 3].set_title('Fare Distribution')\n",
    "axes[0, 3].set_xlabel('Fare')\n",
    "axes[0, 3].set_ylabel('Frequency')\n",
    "\n",
    "# body\n",
    "sns.histplot(data['body'].dropna(), kde=True, bins=20, color='orange', ax=axes[1, 0])\n",
    "axes[1, 0].set_title('Body Condition Distribution')\n",
    "axes[1, 0].set_xlabel('Body Condition')\n",
    "axes[1, 0].set_ylabel('Frequency')\n",
    "\n",
    "# pclass\n",
    "sns.countplot(x='pclass', data=data, palette='pastel', ax=axes[1, 1])\n",
    "axes[1, 1].set_title('Passenger Class Distribution')\n",
    "axes[1, 1].set_xlabel('Pclass')\n",
    "axes[1, 1].set_ylabel('Count')\n",
    "\n",
    "# survived\n",
    "sns.countplot(x='survived', data=data, palette='muted', ax=axes[1, 2])\n",
    "axes[1, 2].set_title('Survival Distribution')\n",
    "axes[1, 2].set_xlabel('Survived (0 = No, 1 = Yes)')\n",
    "axes[1, 2].set_ylabel('Count')\n",
    "\n",
    "# sex\n",
    "sns.countplot(x='sex', data=data, palette='coolwarm', ax=axes[1, 3])\n",
    "axes[1, 3].set_title('Gender Distribution')\n",
    "axes[1, 3].set_xlabel('Sex')\n",
    "axes[1, 3].set_ylabel('Count')\n",
    "\n",
    "for ax in axes.flat:\n",
    "    if not ax.has_data():\n",
    "        ax.set_visible(False)\n",
    "\n",
    "plt.tight_layout()\n",
    "plt.show()\n"
   ]
  },
  {
   "cell_type": "markdown",
   "metadata": {},
   "source": [
    "### 2.4 Analysis on Visualization: Make Explaination of Graph"
   ]
  },
  {
   "cell_type": "markdown",
   "metadata": {},
   "source": [
    "- `Age`: most of passengers are centred on age:  **16~35**\n",
    "\n",
    "- `Number of Siblings`: most of them is **the only traveler, not accompany with their own brothers or sisters** aboard. (Ops, it maybee a bit sad, cuz the loss take away the joyful and happiness of the whole family, what a pity tbh)\n",
    "\n",
    "- `Number of Parents`: most of them is **the only traveler, not accompany with their own parents or children**, it means **most of them are couple!**\n",
    "\n",
    "- `Fare`: most of them pay a low-price ticket to get aboard. (just like the Movie shown, similar as Jack hah)\n",
    "\n",
    "- `Body Condition`: body weight (/lb), the distribution is balanced and most of them are centered on range 50lb~200+lb\n",
    "\n",
    "- `Pclass`: the First Class / Second Class / Third Class (amazingly to find that there are more First Class than the Second Class instead)\n",
    "\n",
    "- `Survived`: the **target value column**, it breaks the previous cognition of my childhoold that 'most of the people in Titanic died', cuz the first impression left by the Movie 'The Titanic'. **But according to stat info, near up to 40% of people survived**\n",
    "\n",
    "- `Sex`: the male is near 65%"
   ]
  },
  {
   "cell_type": "markdown",
   "metadata": {},
   "source": [
    "### 2.5 Feature Selection and Dimension Reduction\n",
    "\n",
    "we know the raw data shape is `(1309, 14)`, that's not a huge dataset in fact. But we notice that **some of the features may be not that helpful for model training**. Or **some data's null ratio is high**. \n",
    "\n",
    "<mark>**Feature Selection**</mark>\n",
    "\n",
    "We need to select necessary features as fellows:\n",
    "```python\n",
    "# (col drop) drop some columns\n",
    "data = data.drop(columns = [__columnsToDrop__])\n",
    "\n",
    "# (row drop) combined condition to judge the row \n",
    "data = data.dropna(subset=[__columnsToDrop__], how='all')\n",
    "```\n",
    "\n",
    "- Drop some `unnecessary or empty-main` columns\n",
    "\n",
    "- Drop rows: cuz **cabin & age** are both important factor for survival rate. `drop if a single miss both of these important features`"
   ]
  },
  {
   "cell_type": "code",
   "execution_count": 171,
   "metadata": {},
   "outputs": [
    {
     "name": "stdout",
     "output_type": "stream",
     "text": [
      "Raw Data Shape: (1309, 14)\n",
      "\n",
      "Columns: Index(['pclass', 'survived', 'name', 'sex', 'age', 'sibsp', 'parch', 'ticket',\n",
      "       'fare', 'cabin', 'embarked', 'boat', 'body', 'home.dest'],\n",
      "      dtype='object')\n",
      "\n",
      "Droped Data Shape: (1309, 8)\n",
      "\n",
      "Cleaned Data: Index(['pclass', 'sex', 'age', 'sibsp', 'parch', 'fare', 'cabin', 'boat'], dtype='object')\n",
      "------------------------------------------------------------------------------------\n"
     ]
    }
   ],
   "source": [
    "print(f'Raw Data Shape: {data.shape}\\n')\n",
    "print(f'Columns: {data.columns}\\n')\n",
    "data = data.drop(columns = ['survived', 'name', 'ticket', 'body', 'home.dest', 'embarked'])\n",
    "\n",
    "print(f'Droped Data Shape: {data.shape}\\n')\n",
    "print(f'Cleaned Data: {data.columns}')\n",
    "\n",
    "data = data.dropna(subset=['cabin', 'age'], how='all')\n",
    "raw_data = raw_data.dropna(subset=['cabin', 'age'], how='all')\n",
    "\n",
    "print('---' * 28)"
   ]
  },
  {
   "cell_type": "code",
   "execution_count": 172,
   "metadata": {},
   "outputs": [
    {
     "name": "stdout",
     "output_type": "stream",
     "text": [
      "   pclass     sex      age  sibsp  parch      fare    cabin boat\n",
      "0       1  female  29.0000      0      0  211.3375       B5    2\n",
      "1       1    male   0.9167      1      2  151.5500  C22 C26   11\n",
      "2       1  female   2.0000      1      2  151.5500  C22 C26  NaN\n",
      "3       1    male  30.0000      1      2  151.5500  C22 C26  NaN\n",
      "4       1  female  25.0000      1      2  151.5500  C22 C26  NaN \n",
      "\n",
      "(1069, 8)\n"
     ]
    }
   ],
   "source": [
    "print(data.head(), '\\n')\n",
    "print(data.shape)"
   ]
  },
  {
   "cell_type": "markdown",
   "metadata": {},
   "source": [
    "### 2.6 NULL Value Processing\n",
    "\n",
    "after data feature selection, we need to find `null value` and process with it."
   ]
  },
  {
   "cell_type": "code",
   "execution_count": 173,
   "metadata": {},
   "outputs": [
    {
     "name": "stdout",
     "output_type": "stream",
     "text": [
      "Orinal Has Null Col: ['age', 'fare', 'cabin', 'boat']\n",
      "Processed Has Null Col: []\n"
     ]
    }
   ],
   "source": [
    "null_col = list()\n",
    "container = list()\n",
    "\n",
    "for i in list(data.columns):\n",
    "    # print(i)\n",
    "    if data[i].isna().any() == True:\n",
    "        null_col.append(i)        \n",
    "        \n",
    "print(f'Orinal Has Null Col: {null_col}')\n",
    "\n",
    "# using mode value to fill up\n",
    "for col in list(data.columns):\n",
    "    # print(data[col].mode())\n",
    "    # avg = data[col].mode()[0]\n",
    "    mode = data[col].mode()[0]\n",
    "    data[col] = data[col].fillna(mode)\n",
    "\n",
    "for i in list(data.columns):\n",
    "    # print(i)\n",
    "    if data[i].isna().any() == True:\n",
    "        container.append(i)        \n",
    "        \n",
    "print(f'Processed Has Null Col: {container}')"
   ]
  },
  {
   "cell_type": "markdown",
   "metadata": {},
   "source": [
    "but sadly, when I check in the data, I found **some error in `boat` column**, like some input are '14 15 B', 'B'.... It means some `Non-Numeric Data involved Numeric Column` (Code is following the encoding part)"
   ]
  },
  {
   "cell_type": "markdown",
   "metadata": {},
   "source": [
    "now, after we fill the NULL value with its `mode-filled` of responding column, we get as fellows:\n",
    "```python\n",
    "# means no Nll Col, all the Col have no null value\n",
    "Processed Has Null Col: []\n",
    "```"
   ]
  },
  {
   "cell_type": "markdown",
   "metadata": {},
   "source": [
    "### 2.7 Encoding of Categorical Data\n",
    "\n",
    "most of the Categorical Data can't be directly used in Model Learning Model, so `transform Categorical Data --> Numeric Data`\n",
    "\n",
    "- `(1) One Hot-Encoding`: For a certain feature, it has many categorical types. For this certain feature, we make Binary Encoding for these types. **Create multiple new columns, each column stands for a certain type of certain feature**\n",
    "\n",
    "    - the following image, we can see **three new columns were born**, (if we have more categorical features, that means more types. So more new columns will be genrated)\n",
    "\n",
    "![one_hot_encoding](one_hot_encoding.png)\n",
    "\n",
    "        - understand how to assign a certain categorical type\n",
    "![one_hot_encoding_1](one_hot_encoding_1.png)\n",
    "\n",
    "\n",
    "- `(2) Label Encoding`: Direct label by **0/1/2/3/4/...**\n",
    "\n",
    "\n",
    "- `(3) Binary Encoding`: advanced One Hot-Encoding, can reduce the data dimension\n",
    "![one_hot_encoding_1](binary_encoding.png)"
   ]
  },
  {
   "cell_type": "code",
   "execution_count": 174,
   "metadata": {},
   "outputs": [
    {
     "name": "stdout",
     "output_type": "stream",
     "text": [
      "      pclass      age  sibsp  parch      fare boat  sex_female  sex_male  \\\n",
      "0          1  29.0000      0      0  211.3375    2        True     False   \n",
      "1          1   0.9167      1      2  151.5500   11       False      True   \n",
      "2          1   2.0000      1      2  151.5500   15        True     False   \n",
      "3          1  30.0000      1      2  151.5500   15       False      True   \n",
      "4          1  25.0000      1      2  151.5500   15        True     False   \n",
      "...      ...      ...    ...    ...       ...  ...         ...       ...   \n",
      "1301       3  45.5000      0      0    7.2250   15       False      True   \n",
      "1304       3  14.5000      1      0   14.4542   15        True     False   \n",
      "1306       3  26.5000      0      0    7.2250   15       False      True   \n",
      "1307       3  27.0000      0      0    7.2250   15       False      True   \n",
      "1308       3  29.0000      0      0    7.8750   15       False      True   \n",
      "\n",
      "      cabin_A10  cabin_A11  ...  cabin_F E57  cabin_F E69  cabin_F G63  \\\n",
      "0         False      False  ...        False        False        False   \n",
      "1         False      False  ...        False        False        False   \n",
      "2         False      False  ...        False        False        False   \n",
      "3         False      False  ...        False        False        False   \n",
      "4         False      False  ...        False        False        False   \n",
      "...         ...        ...  ...          ...          ...          ...   \n",
      "1301      False      False  ...        False        False        False   \n",
      "1304      False      False  ...        False        False        False   \n",
      "1306      False      False  ...        False        False        False   \n",
      "1307      False      False  ...        False        False        False   \n",
      "1308      False      False  ...        False        False        False   \n",
      "\n",
      "      cabin_F G73  cabin_F2  cabin_F33  cabin_F38  cabin_F4  cabin_G6  cabin_T  \n",
      "0           False     False      False      False     False     False    False  \n",
      "1           False     False      False      False     False     False    False  \n",
      "2           False     False      False      False     False     False    False  \n",
      "3           False     False      False      False     False     False    False  \n",
      "4           False     False      False      False     False     False    False  \n",
      "...           ...       ...        ...        ...       ...       ...      ...  \n",
      "1301        False     False      False      False     False     False    False  \n",
      "1304        False     False      False      False     False     False    False  \n",
      "1306        False     False      False      False     False     False    False  \n",
      "1307        False     False      False      False     False     False    False  \n",
      "1308        False     False      False      False     False     False    False  \n",
      "\n",
      "[1069 rows x 194 columns]\n"
     ]
    }
   ],
   "source": [
    "# data encoding\n",
    "# it use one hot-encoind\n",
    "data_encoded = pd.get_dummies(\n",
    "    data, columns=['sex', 'cabin']\n",
    "    )\n",
    "\n",
    "print(data_encoded)"
   ]
  },
  {
   "cell_type": "markdown",
   "metadata": {},
   "source": [
    "using `One Hot-Encoding`, and found that data dimension is improving! Turn into `higher dimension`: [[1069 rows x 194 columns]]"
   ]
  },
  {
   "cell_type": "code",
   "execution_count": 175,
   "metadata": {},
   "outputs": [
    {
     "data": {
      "text/html": [
       "<div>\n",
       "<style scoped>\n",
       "    .dataframe tbody tr th:only-of-type {\n",
       "        vertical-align: middle;\n",
       "    }\n",
       "\n",
       "    .dataframe tbody tr th {\n",
       "        vertical-align: top;\n",
       "    }\n",
       "\n",
       "    .dataframe thead th {\n",
       "        text-align: right;\n",
       "    }\n",
       "</style>\n",
       "<table border=\"1\" class=\"dataframe\">\n",
       "  <thead>\n",
       "    <tr style=\"text-align: right;\">\n",
       "      <th></th>\n",
       "      <th>cabin_F2</th>\n",
       "      <th>cabin_F33</th>\n",
       "      <th>cabin_F38</th>\n",
       "      <th>cabin_F4</th>\n",
       "    </tr>\n",
       "  </thead>\n",
       "  <tbody>\n",
       "    <tr>\n",
       "      <th>0</th>\n",
       "      <td>False</td>\n",
       "      <td>False</td>\n",
       "      <td>False</td>\n",
       "      <td>False</td>\n",
       "    </tr>\n",
       "    <tr>\n",
       "      <th>1</th>\n",
       "      <td>False</td>\n",
       "      <td>False</td>\n",
       "      <td>False</td>\n",
       "      <td>False</td>\n",
       "    </tr>\n",
       "    <tr>\n",
       "      <th>2</th>\n",
       "      <td>False</td>\n",
       "      <td>False</td>\n",
       "      <td>False</td>\n",
       "      <td>False</td>\n",
       "    </tr>\n",
       "    <tr>\n",
       "      <th>3</th>\n",
       "      <td>False</td>\n",
       "      <td>False</td>\n",
       "      <td>False</td>\n",
       "      <td>False</td>\n",
       "    </tr>\n",
       "    <tr>\n",
       "      <th>4</th>\n",
       "      <td>False</td>\n",
       "      <td>False</td>\n",
       "      <td>False</td>\n",
       "      <td>False</td>\n",
       "    </tr>\n",
       "  </tbody>\n",
       "</table>\n",
       "</div>"
      ],
      "text/plain": [
       "   cabin_F2  cabin_F33  cabin_F38  cabin_F4\n",
       "0     False      False      False     False\n",
       "1     False      False      False     False\n",
       "2     False      False      False     False\n",
       "3     False      False      False     False\n",
       "4     False      False      False     False"
      ]
     },
     "execution_count": 175,
     "metadata": {},
     "output_type": "execute_result"
    }
   ],
   "source": [
    "# found new generated columns\n",
    "data_encoded[['cabin_F2', 'cabin_F33', 'cabin_F38', 'cabin_F4']].head()"
   ]
  },
  {
   "cell_type": "code",
   "execution_count": 176,
   "metadata": {},
   "outputs": [
    {
     "data": {
      "text/plain": [
       "0     2.000000\n",
       "1    11.000000\n",
       "2    15.000000\n",
       "3    15.000000\n",
       "4    15.000000\n",
       "5     3.000000\n",
       "6    10.000000\n",
       "7    15.000000\n",
       "8    12.872128\n",
       "9    15.000000\n",
       "Name: boat, dtype: float64"
      ]
     },
     "execution_count": 176,
     "metadata": {},
     "output_type": "execute_result"
    }
   ],
   "source": [
    "# some error in `boat` column, like some input are '14 15 B', 'B'.... It means some `Non-Numeric Data involved Numeric Column`\n",
    "\n",
    "data_encoded['boat'] = pd.to_numeric(data['boat'], errors='coerce')\n",
    "# data_encoded['boat'].head(30)\n",
    "\n",
    "mean1 = data_encoded['boat'].mean()\n",
    "data_encoded['boat'] = data_encoded['boat'].fillna(mean1)\n",
    "\n",
    "data_encoded['boat'].head(10)"
   ]
  },
  {
   "cell_type": "markdown",
   "metadata": {},
   "source": [
    "### 2.8 Overview of Processed Data"
   ]
  },
  {
   "cell_type": "code",
   "execution_count": 177,
   "metadata": {},
   "outputs": [
    {
     "name": "stdout",
     "output_type": "stream",
     "text": [
      "pclass: {1, 2, 3}\n",
      "\n",
      "age: {0.75, 1.0, 2.0, 3.0, 4.0, 5.0, 6.0, 7.0, 8.0, 9.0, 10.0, 11.0, 12.0, 13.0, 14.0, 15.0, 16.0, 17.0, 18.0, 19.0, 18.5, 21.0, 22.0, 23.0, 24.0, 25.0, 26.0, 27.0, 28.5, 28.0, 29.0, 30.0, 31.0, 32.0, 33.0, 32.5, 35.0, 36.0, 37.0, 38.0, 39.0, 40.0, 41.0, 42.0, 43.0, 44.0, 45.0, 46.0, 47.0, 48.0, 49.0, 50.0, 51.0, 52.0, 53.0, 54.0, 55.0, 56.0, 57.0, 58.0, 59.0, 60.0, 61.0, 62.0, 63.0, 64.0, 65.0, 66.0, 67.0, 60.5, 70.0, 71.0, 70.5, 14.5, 74.0, 76.0, 80.0, 20.0, 20.5, 22.5, 23.5, 24.5, 0.3333, 26.5, 30.5, 34.0, 34.5, 36.5, 38.5, 40.5, 45.5, 0.9167, 0.8333, 0.6667, 55.5, 11.5, 0.1667, 0.4167}\n",
      "\n",
      "sibsp: {0, 1, 2, 3, 4, 5, 8}\n",
      "\n",
      "parch: {0, 1, 2, 3, 4, 5, 6}\n",
      "\n",
      "fare: {0.0, 512.3292, 3.1708, 4.0125, 5.0, 6.75, 7.55, 7.65, 9.6875, 10.5, 11.5, 12.525, 13.0, 13.5, 13.8583, 14.5, 16.0, 12.275, 15.0, 13.7917, 21.0, 15.0458, 23.0, 24.0, 25.5875, 26.3875, 27.75, 28.5, 28.7125, 26.0, 26.55, 27.7208, 26.2875, 30.0, 31.0, 30.5, 29.7, 35.5, 31.6792, 38.5, 39.6, 34.6542, 42.5, 39.4, 45.5, 42.4, 47.1, 40.125, 49.5042, 50.4958, 51.8625, 51.4792, 52.5542, 53.1, 52.0, 55.0, 56.9292, 57.0, 59.4, 55.4417, 61.175, 57.9792, 63.3583, 57.75, 61.9792, 66.6, 60.0, 61.3792, 69.3, 65.0, 71.0, 71.2833, 73.5, 14.0, 75.2417, 76.2917, 77.9583, 78.85, 78.2667, 79.2, 81.8583, 76.7292, 83.1583, 83.475, 80.0, 86.5, 82.1708, 82.2667, 89.1042, 90.0, 91.0792, 18.75, 93.5, 18.7875, 17.4, 19.5, 19.2583, 18.0, 7.2292, 20.25, 7.8542, 16.1, 20.525, 20.2125, 106.425, 108.9, 110.8833, 22.525, 22.025, 113.275, 22.3583, 120.0, 24.15, 25.9292, 26.25, 14.1083, 133.65, 134.5, 135.6333, 136.7792, 27.4458, 27.0, 8.6833, 27.9, 28.5375, 146.5208, 29.0, 29.125, 151.55, 30.6958, 153.4625, 30.0708, 31.5, 31.275, 6.4375, 32.3208, 32.5, 164.8667, 7.775, 7.8208, 33.5, 33.0, 8.9625, 10.1708, 34.0208, 34.375, 9.5875, 9.8375, 35.0, 10.4625, 7.25, 36.75, 7.75, 11.1333, 7.125, 7.0, 37.0042, 7.875, 12.65, 8.4042, 13.9, 13.4167, 13.775, 39.0, 39.6875, 14.4, 15.9, 41.5792, 211.3375, 211.5, 221.7792, 6.2375, 227.525, 7.925, 7.05, 7.8792, 7.2833, 7.6292, 9.5, 46.9, 7.8, 9.0, 49.5, 247.5208, 50.0, 262.375, 263.0, 55.9, 56.4958, 8.05, 8.3, 8.1583, 8.3625, 8.6542, 9.8458, 9.825, 8.4333, 8.0292, 12.0, 12.875, 9.4833, 9.2167, 9.325, 9.8417, 12.7375, 12.1833, 13.8625, 15.0333, 14.4542, 15.2458, 15.55, 16.7, 17.8, 69.55, 6.95, 6.45, 6.4958, 7.8875, 7.4958, 20.575, 21.075, 75.25, 15.75, 25.7, 15.5, 26.2833, 77.2875, 79.65, 7.8292, 7.5792, 7.1417, 31.3875, 6.975, 7.225, 7.725, 7.7417, 7.85, 7.0542, 8.6625, 8.85, 9.475, 9.35, 9.225, 8.5167, 11.2417, 12.35, 12.475, 12.2875, 14.4583, 15.85, 15.1, 15.7417, 7.7958, 7.0458, 7.7333, 10.5167, 7.8958, 7.5208}\n",
      "\n",
      "boat: {1, 2, 3, 4, 5, 6, 7, 8, 9, 10, 11, 'C', 13, 14, 15, 12, 16, '13 15', 'D', 'C D', 'B', 'A', '8 10', '5 7', '13 15 B', '5 9'}\n",
      "\n"
     ]
    }
   ],
   "source": [
    "# choose the first 6 columns\n",
    "# cuz the fellowing columns are both new generated columns for One Hot-Encoding\n",
    "for i in list(data_encoded.columns)[0:6]:\n",
    "    print(f'{i}: {(set(data[i]))}\\n')\n",
    "    \n",
    "# data_encoded.head()"
   ]
  },
  {
   "cell_type": "markdown",
   "metadata": {},
   "source": [
    "luckily, we all successfully cope with data preprocessing, now no Null value or illegal value exist!"
   ]
  },
  {
   "cell_type": "markdown",
   "metadata": {},
   "source": [
    "### 2.9 Data Scaling\n",
    "\n",
    "for a better control in Gradient Descent, (for a better grad value computation and a more balanced grad leading guidance). `Data Scaling has better control & convergence in gradient compuation` (faster + stable + more balanced)\n",
    "\n",
    "Tips:\n",
    "- 1. Scaling used in **Numeric** Data\n",
    "- 2. Scaling used in **X**, but **not y**"
   ]
  },
  {
   "cell_type": "code",
   "execution_count": 178,
   "metadata": {},
   "outputs": [
    {
     "name": "stdout",
     "output_type": "stream",
     "text": [
      "(1069, 194)\n"
     ]
    },
    {
     "data": {
      "text/html": [
       "<div>\n",
       "<style scoped>\n",
       "    .dataframe tbody tr th:only-of-type {\n",
       "        vertical-align: middle;\n",
       "    }\n",
       "\n",
       "    .dataframe tbody tr th {\n",
       "        vertical-align: top;\n",
       "    }\n",
       "\n",
       "    .dataframe thead th {\n",
       "        text-align: right;\n",
       "    }\n",
       "</style>\n",
       "<table border=\"1\" class=\"dataframe\">\n",
       "  <thead>\n",
       "    <tr style=\"text-align: right;\">\n",
       "      <th></th>\n",
       "      <th>pclass</th>\n",
       "      <th>age</th>\n",
       "      <th>sibsp</th>\n",
       "      <th>parch</th>\n",
       "      <th>fare</th>\n",
       "      <th>boat</th>\n",
       "      <th>sex_female</th>\n",
       "      <th>sex_male</th>\n",
       "      <th>cabin_A10</th>\n",
       "      <th>cabin_A11</th>\n",
       "      <th>...</th>\n",
       "      <th>cabin_F E57</th>\n",
       "      <th>cabin_F E69</th>\n",
       "      <th>cabin_F G63</th>\n",
       "      <th>cabin_F G73</th>\n",
       "      <th>cabin_F2</th>\n",
       "      <th>cabin_F33</th>\n",
       "      <th>cabin_F38</th>\n",
       "      <th>cabin_F4</th>\n",
       "      <th>cabin_G6</th>\n",
       "      <th>cabin_T</th>\n",
       "    </tr>\n",
       "  </thead>\n",
       "  <tbody>\n",
       "    <tr>\n",
       "      <th>0</th>\n",
       "      <td>1</td>\n",
       "      <td>-0.052857</td>\n",
       "      <td>-0.548962</td>\n",
       "      <td>-0.496538</td>\n",
       "      <td>3.140614</td>\n",
       "      <td>-2.943948</td>\n",
       "      <td>True</td>\n",
       "      <td>False</td>\n",
       "      <td>False</td>\n",
       "      <td>False</td>\n",
       "      <td>...</td>\n",
       "      <td>False</td>\n",
       "      <td>False</td>\n",
       "      <td>False</td>\n",
       "      <td>False</td>\n",
       "      <td>False</td>\n",
       "      <td>False</td>\n",
       "      <td>False</td>\n",
       "      <td>False</td>\n",
       "      <td>False</td>\n",
       "      <td>False</td>\n",
       "    </tr>\n",
       "    <tr>\n",
       "      <th>1</th>\n",
       "      <td>1</td>\n",
       "      <td>-2.019983</td>\n",
       "      <td>0.556199</td>\n",
       "      <td>1.905267</td>\n",
       "      <td>2.064310</td>\n",
       "      <td>-0.506934</td>\n",
       "      <td>False</td>\n",
       "      <td>True</td>\n",
       "      <td>False</td>\n",
       "      <td>False</td>\n",
       "      <td>...</td>\n",
       "      <td>False</td>\n",
       "      <td>False</td>\n",
       "      <td>False</td>\n",
       "      <td>False</td>\n",
       "      <td>False</td>\n",
       "      <td>False</td>\n",
       "      <td>False</td>\n",
       "      <td>False</td>\n",
       "      <td>False</td>\n",
       "      <td>False</td>\n",
       "    </tr>\n",
       "    <tr>\n",
       "      <th>2</th>\n",
       "      <td>1</td>\n",
       "      <td>-1.944102</td>\n",
       "      <td>0.556199</td>\n",
       "      <td>1.905267</td>\n",
       "      <td>2.064310</td>\n",
       "      <td>0.576184</td>\n",
       "      <td>True</td>\n",
       "      <td>False</td>\n",
       "      <td>False</td>\n",
       "      <td>False</td>\n",
       "      <td>...</td>\n",
       "      <td>False</td>\n",
       "      <td>False</td>\n",
       "      <td>False</td>\n",
       "      <td>False</td>\n",
       "      <td>False</td>\n",
       "      <td>False</td>\n",
       "      <td>False</td>\n",
       "      <td>False</td>\n",
       "      <td>False</td>\n",
       "      <td>False</td>\n",
       "    </tr>\n",
       "    <tr>\n",
       "      <th>3</th>\n",
       "      <td>1</td>\n",
       "      <td>0.017189</td>\n",
       "      <td>0.556199</td>\n",
       "      <td>1.905267</td>\n",
       "      <td>2.064310</td>\n",
       "      <td>0.576184</td>\n",
       "      <td>False</td>\n",
       "      <td>True</td>\n",
       "      <td>False</td>\n",
       "      <td>False</td>\n",
       "      <td>...</td>\n",
       "      <td>False</td>\n",
       "      <td>False</td>\n",
       "      <td>False</td>\n",
       "      <td>False</td>\n",
       "      <td>False</td>\n",
       "      <td>False</td>\n",
       "      <td>False</td>\n",
       "      <td>False</td>\n",
       "      <td>False</td>\n",
       "      <td>False</td>\n",
       "    </tr>\n",
       "    <tr>\n",
       "      <th>4</th>\n",
       "      <td>1</td>\n",
       "      <td>-0.333041</td>\n",
       "      <td>0.556199</td>\n",
       "      <td>1.905267</td>\n",
       "      <td>2.064310</td>\n",
       "      <td>0.576184</td>\n",
       "      <td>True</td>\n",
       "      <td>False</td>\n",
       "      <td>False</td>\n",
       "      <td>False</td>\n",
       "      <td>...</td>\n",
       "      <td>False</td>\n",
       "      <td>False</td>\n",
       "      <td>False</td>\n",
       "      <td>False</td>\n",
       "      <td>False</td>\n",
       "      <td>False</td>\n",
       "      <td>False</td>\n",
       "      <td>False</td>\n",
       "      <td>False</td>\n",
       "      <td>False</td>\n",
       "    </tr>\n",
       "  </tbody>\n",
       "</table>\n",
       "<p>5 rows × 194 columns</p>\n",
       "</div>"
      ],
      "text/plain": [
       "   pclass       age     sibsp     parch      fare      boat  sex_female  \\\n",
       "0       1 -0.052857 -0.548962 -0.496538  3.140614 -2.943948        True   \n",
       "1       1 -2.019983  0.556199  1.905267  2.064310 -0.506934       False   \n",
       "2       1 -1.944102  0.556199  1.905267  2.064310  0.576184        True   \n",
       "3       1  0.017189  0.556199  1.905267  2.064310  0.576184       False   \n",
       "4       1 -0.333041  0.556199  1.905267  2.064310  0.576184        True   \n",
       "\n",
       "   sex_male  cabin_A10  cabin_A11  ...  cabin_F E57  cabin_F E69  cabin_F G63  \\\n",
       "0     False      False      False  ...        False        False        False   \n",
       "1      True      False      False  ...        False        False        False   \n",
       "2     False      False      False  ...        False        False        False   \n",
       "3      True      False      False  ...        False        False        False   \n",
       "4     False      False      False  ...        False        False        False   \n",
       "\n",
       "   cabin_F G73  cabin_F2  cabin_F33  cabin_F38  cabin_F4  cabin_G6  cabin_T  \n",
       "0        False     False      False      False     False     False    False  \n",
       "1        False     False      False      False     False     False    False  \n",
       "2        False     False      False      False     False     False    False  \n",
       "3        False     False      False      False     False     False    False  \n",
       "4        False     False      False      False     False     False    False  \n",
       "\n",
       "[5 rows x 194 columns]"
      ]
     },
     "execution_count": 178,
     "metadata": {},
     "output_type": "execute_result"
    }
   ],
   "source": [
    "from sklearn.preprocessing import StandardScaler\n",
    "\n",
    "scaler = StandardScaler()\n",
    "data_standardized = data_encoded.copy()\n",
    "\n",
    "# choosing numeric columns, \n",
    "# the target column does't need to!\n",
    "data_standardized[['age', 'sibsp', 'parch', 'fare', 'boat']] = scaler.fit_transform(data_standardized[['age', 'sibsp', 'parch', 'fare', 'boat']])\n",
    "\n",
    "print(data_standardized.shape)\n",
    "data_standardized.head()"
   ]
  },
  {
   "cell_type": "markdown",
   "metadata": {},
   "source": [
    "## 3. Model Preparation"
   ]
  },
  {
   "cell_type": "markdown",
   "metadata": {},
   "source": [
    "### 3.1 Dataset Split"
   ]
  },
  {
   "cell_type": "code",
   "execution_count": 179,
   "metadata": {},
   "outputs": [
    {
     "name": "stdout",
     "output_type": "stream",
     "text": [
      "Raw Data Shape: (1069, 8)\n",
      "X_train.shape: (855, 194)\n",
      "y_train.shape: (855,)\n",
      "X_test.shape: (214, 194)\n",
      "y_test.shape: (214,)\n"
     ]
    }
   ],
   "source": [
    "# Split data\n",
    "from sklearn.model_selection import train_test_split\n",
    "\n",
    "print(f'Raw Data Shape: {data.shape}')\n",
    "X_train, X_test, y_train, y_test = train_test_split(\n",
    "    data_standardized, \n",
    "    raw_data['survived'],\n",
    "    test_size = 0.2, random_state = 42\n",
    ")\n",
    "\n",
    "print(f'X_train.shape: {X_train.shape}')\n",
    "print(f'y_train.shape: {y_train.shape}')\n",
    "print(f'X_test.shape: {X_test.shape}')\n",
    "print(f'y_test.shape: {y_test.shape}')"
   ]
  },
  {
   "cell_type": "markdown",
   "metadata": {},
   "source": [
    "### 3.2 Model Initialization\n",
    "\n",
    "`Simple Bianry Classification Problem --> Logistic Model`\n",
    "\n",
    "- Logistic Model with L1 Regularization\n",
    "- Logistic Model with L2 Regularization"
   ]
  },
  {
   "cell_type": "code",
   "execution_count": 180,
   "metadata": {},
   "outputs": [
    {
     "name": "stdout",
     "output_type": "stream",
     "text": [
      "Model1: LogisticRegression(max_iter=5000, penalty='l1', random_state=42, solver='saga')\n",
      "\n",
      "Model2: LogisticRegression(max_iter=5000, random_state=42)\n"
     ]
    }
   ],
   "source": [
    "from sklearn.linear_model import LogisticRegression\n",
    "from sklearn.metrics import accuracy_score\n",
    "\n",
    "# Using L1 Regularization \n",
    "# init the model\n",
    "model_l1 = LogisticRegression(penalty='l1', solver='saga', max_iter=5000, random_state=42)\n",
    "\n",
    "###############################################################################\n",
    "\n",
    "# Using L2 regularization\n",
    "# init the model\n",
    "model_l2 = LogisticRegression(penalty='l2', solver='lbfgs', max_iter=5000, random_state=42)\n",
    "\n",
    "print(f'Model1: {model_l1}\\n')\n",
    "print(f'Model2: {model_l2}')"
   ]
  },
  {
   "cell_type": "markdown",
   "metadata": {},
   "source": [
    "### 3.3 Model Training"
   ]
  },
  {
   "cell_type": "code",
   "execution_count": 181,
   "metadata": {},
   "outputs": [
    {
     "name": "stdout",
     "output_type": "stream",
     "text": [
      "LogisticRegression(max_iter=5000, penalty='l1', random_state=42, solver='saga')\n",
      "LogisticRegression(max_iter=5000, random_state=42)\n"
     ]
    },
    {
     "data": {
      "text/html": [
       "<style>#sk-container-id-6 {color: black;}#sk-container-id-6 pre{padding: 0;}#sk-container-id-6 div.sk-toggleable {background-color: white;}#sk-container-id-6 label.sk-toggleable__label {cursor: pointer;display: block;width: 100%;margin-bottom: 0;padding: 0.3em;box-sizing: border-box;text-align: center;}#sk-container-id-6 label.sk-toggleable__label-arrow:before {content: \"▸\";float: left;margin-right: 0.25em;color: #696969;}#sk-container-id-6 label.sk-toggleable__label-arrow:hover:before {color: black;}#sk-container-id-6 div.sk-estimator:hover label.sk-toggleable__label-arrow:before {color: black;}#sk-container-id-6 div.sk-toggleable__content {max-height: 0;max-width: 0;overflow: hidden;text-align: left;background-color: #f0f8ff;}#sk-container-id-6 div.sk-toggleable__content pre {margin: 0.2em;color: black;border-radius: 0.25em;background-color: #f0f8ff;}#sk-container-id-6 input.sk-toggleable__control:checked~div.sk-toggleable__content {max-height: 200px;max-width: 100%;overflow: auto;}#sk-container-id-6 input.sk-toggleable__control:checked~label.sk-toggleable__label-arrow:before {content: \"▾\";}#sk-container-id-6 div.sk-estimator input.sk-toggleable__control:checked~label.sk-toggleable__label {background-color: #d4ebff;}#sk-container-id-6 div.sk-label input.sk-toggleable__control:checked~label.sk-toggleable__label {background-color: #d4ebff;}#sk-container-id-6 input.sk-hidden--visually {border: 0;clip: rect(1px 1px 1px 1px);clip: rect(1px, 1px, 1px, 1px);height: 1px;margin: -1px;overflow: hidden;padding: 0;position: absolute;width: 1px;}#sk-container-id-6 div.sk-estimator {font-family: monospace;background-color: #f0f8ff;border: 1px dotted black;border-radius: 0.25em;box-sizing: border-box;margin-bottom: 0.5em;}#sk-container-id-6 div.sk-estimator:hover {background-color: #d4ebff;}#sk-container-id-6 div.sk-parallel-item::after {content: \"\";width: 100%;border-bottom: 1px solid gray;flex-grow: 1;}#sk-container-id-6 div.sk-label:hover label.sk-toggleable__label {background-color: #d4ebff;}#sk-container-id-6 div.sk-serial::before {content: \"\";position: absolute;border-left: 1px solid gray;box-sizing: border-box;top: 0;bottom: 0;left: 50%;z-index: 0;}#sk-container-id-6 div.sk-serial {display: flex;flex-direction: column;align-items: center;background-color: white;padding-right: 0.2em;padding-left: 0.2em;position: relative;}#sk-container-id-6 div.sk-item {position: relative;z-index: 1;}#sk-container-id-6 div.sk-parallel {display: flex;align-items: stretch;justify-content: center;background-color: white;position: relative;}#sk-container-id-6 div.sk-item::before, #sk-container-id-6 div.sk-parallel-item::before {content: \"\";position: absolute;border-left: 1px solid gray;box-sizing: border-box;top: 0;bottom: 0;left: 50%;z-index: -1;}#sk-container-id-6 div.sk-parallel-item {display: flex;flex-direction: column;z-index: 1;position: relative;background-color: white;}#sk-container-id-6 div.sk-parallel-item:first-child::after {align-self: flex-end;width: 50%;}#sk-container-id-6 div.sk-parallel-item:last-child::after {align-self: flex-start;width: 50%;}#sk-container-id-6 div.sk-parallel-item:only-child::after {width: 0;}#sk-container-id-6 div.sk-dashed-wrapped {border: 1px dashed gray;margin: 0 0.4em 0.5em 0.4em;box-sizing: border-box;padding-bottom: 0.4em;background-color: white;}#sk-container-id-6 div.sk-label label {font-family: monospace;font-weight: bold;display: inline-block;line-height: 1.2em;}#sk-container-id-6 div.sk-label-container {text-align: center;}#sk-container-id-6 div.sk-container {/* jupyter's `normalize.less` sets `[hidden] { display: none; }` but bootstrap.min.css set `[hidden] { display: none !important; }` so we also need the `!important` here to be able to override the default hidden behavior on the sphinx rendered scikit-learn.org. See: https://github.com/scikit-learn/scikit-learn/issues/21755 */display: inline-block !important;position: relative;}#sk-container-id-6 div.sk-text-repr-fallback {display: none;}</style><div id=\"sk-container-id-6\" class=\"sk-top-container\"><div class=\"sk-text-repr-fallback\"><pre>LogisticRegression(max_iter=5000, penalty=&#x27;l1&#x27;, random_state=42, solver=&#x27;saga&#x27;)</pre><b>In a Jupyter environment, please rerun this cell to show the HTML representation or trust the notebook. <br />On GitHub, the HTML representation is unable to render, please try loading this page with nbviewer.org.</b></div><div class=\"sk-container\" hidden><div class=\"sk-item\"><div class=\"sk-estimator sk-toggleable\"><input class=\"sk-toggleable__control sk-hidden--visually\" id=\"sk-estimator-id-6\" type=\"checkbox\" checked><label for=\"sk-estimator-id-6\" class=\"sk-toggleable__label sk-toggleable__label-arrow\">LogisticRegression</label><div class=\"sk-toggleable__content\"><pre>LogisticRegression(max_iter=5000, penalty=&#x27;l1&#x27;, random_state=42, solver=&#x27;saga&#x27;)</pre></div></div></div></div></div>"
      ],
      "text/plain": [
       "LogisticRegression(max_iter=5000, penalty='l1', random_state=42, solver='saga')"
      ]
     },
     "execution_count": 181,
     "metadata": {},
     "output_type": "execute_result"
    }
   ],
   "source": [
    "# training the Model\n",
    "print(model_l1.fit(X_train, y_train))\n",
    "print(model_l2.fit(X_train, y_train))\n",
    "model_l1"
   ]
  },
  {
   "cell_type": "markdown",
   "metadata": {},
   "source": [
    "### 3.4 Model Prediction"
   ]
  },
  {
   "cell_type": "code",
   "execution_count": 182,
   "metadata": {},
   "outputs": [
    {
     "data": {
      "text/plain": [
       "array([0, 1, 0, 1, 0, 0, 1, 1, 0, 0, 1, 0, 0, 0, 0, 1, 1, 1, 0, 1, 0, 0,\n",
       "       0, 1, 0, 0, 0, 1, 1, 1, 1, 0, 0, 0, 1, 1, 1, 1, 1, 1, 1, 0, 1, 0,\n",
       "       0, 0, 0, 1, 0, 0, 0, 0, 0, 0, 0, 0, 0, 0, 0, 0, 0, 1, 1, 0, 1, 0,\n",
       "       1, 0, 0, 1, 0, 1, 1, 0, 0, 1, 0, 0, 0, 0, 0, 1, 0, 0, 0, 1, 1, 0,\n",
       "       1, 1, 0, 0, 0, 0, 1, 1, 0, 1, 0, 0, 1, 0, 0, 0, 0, 0, 0, 0, 1, 1,\n",
       "       0, 1, 0, 0, 1, 0, 0, 0, 1, 1, 0, 0, 0, 0, 0, 0, 0, 0, 0, 0, 0, 1,\n",
       "       0, 1, 1, 1, 0, 1, 1, 0, 1, 0, 0, 0, 1, 0, 0, 0, 1, 1, 0, 0, 0, 1,\n",
       "       1, 1, 1, 0, 0, 1, 1, 1, 0, 0, 0, 1, 0, 0, 0, 0, 1, 1, 1, 1, 1, 0,\n",
       "       0, 0, 1, 0, 0, 0, 1, 0, 0, 1, 0, 0, 0, 0, 0, 0, 0, 1, 1, 0, 0, 0,\n",
       "       0, 0, 0, 0, 0, 0, 0, 0, 0, 1, 0, 1, 0, 0, 0, 1])"
      ]
     },
     "execution_count": 182,
     "metadata": {},
     "output_type": "execute_result"
    }
   ],
   "source": [
    "y_pred_l1 = model_l1.predict(X_test)\n",
    "y_pred_l2 = model_l2.predict(X_test)\n",
    "\n",
    "# show one of pred result\n",
    "y_pred_l1"
   ]
  },
  {
   "cell_type": "markdown",
   "metadata": {},
   "source": [
    "### 3.5 Model Evaluation (Quantitative Statistics)"
   ]
  },
  {
   "cell_type": "code",
   "execution_count": 183,
   "metadata": {},
   "outputs": [
    {
     "name": "stdout",
     "output_type": "stream",
     "text": [
      "- Accuracy with L1 regularization: 92.5234%\n",
      "- Accuracy with L2 regularization: 92.0561%\n",
      "\n",
      "------------------------------------------------------\n",
      "\n",
      "L1 Regularization Model:\n",
      "- Precision: 0.9870\n",
      "- Recall: 0.8352\n",
      "- F1 Score: 0.9048\n",
      "\n",
      "L2 Regularization Model:\n",
      "- Precision: 0.9868\n",
      "- Recall: 0.8242\n",
      "- F1 Score: 0.8982\n",
      "\n",
      "------------------------------------------------------\n",
      "\n",
      "L1 Regularization Model Report:\n",
      "               precision    recall  f1-score   support\n",
      "\n",
      "    Survived       0.89      0.99      0.94       123\n",
      "       Death       0.99      0.84      0.90        91\n",
      "\n",
      "    accuracy                           0.93       214\n",
      "   macro avg       0.94      0.91      0.92       214\n",
      "weighted avg       0.93      0.93      0.92       214\n",
      "\n",
      "------------------------------------------------------\n",
      "\n",
      "L2 Regularization Model Report:\n",
      "               precision    recall  f1-score   support\n",
      "\n",
      "    Survived       0.88      0.99      0.93       123\n",
      "       Death       0.99      0.82      0.90        91\n",
      "\n",
      "    accuracy                           0.92       214\n",
      "   macro avg       0.94      0.91      0.92       214\n",
      "weighted avg       0.93      0.92      0.92       214\n",
      "\n"
     ]
    }
   ],
   "source": [
    "# acr print out \n",
    "# Calculate the accuracy of the model\n",
    "accuracy_l1 = accuracy_score(y_test, y_pred_l1)\n",
    "print(f\"- Accuracy with L1 regularization: {accuracy_l1*100:.4f}%\")\n",
    "\n",
    "accuracy_l2 = accuracy_score(y_test, y_pred_l2)\n",
    "print(f\"- Accuracy with L2 regularization: {accuracy_l2*100:.4f}%\\n\")\n",
    "\n",
    "print('---'*18)\n",
    "# Calculate other metrics: precision, recall, and F1-score\n",
    "from sklearn.metrics import precision_score, recall_score, f1_score\n",
    "\n",
    "prec_l1 = precision_score(y_test, y_pred_l1)\n",
    "recall_l1 = recall_score(y_test, y_pred_l1)\n",
    "f1_l1 = f1_score(y_test, y_pred_l1)\n",
    "\n",
    "prec_l2 = precision_score(y_test, y_pred_l2)\n",
    "recall_l2 = recall_score(y_test, y_pred_l2)\n",
    "f1_l2 = f1_score(y_test, y_pred_l2)\n",
    "\n",
    "print(\"\\nL1 Regularization Model:\")\n",
    "print(f\"- Precision: {prec_l1:.4f}\")\n",
    "print(f\"- Recall: {recall_l1:.4f}\")\n",
    "print(f\"- F1 Score: {f1_l1:.4f}\\n\")\n",
    "\n",
    "print(\"L2 Regularization Model:\")\n",
    "print(f\"- Precision: {prec_l2:.4f}\")\n",
    "print(f\"- Recall: {recall_l2:.4f}\")\n",
    "print(f\"- F1 Score: {f1_l2:.4f}\\n\")\n",
    "\n",
    "print('---'*18)\n",
    "\n",
    "# print out classification report\n",
    "from sklearn.metrics import classification_report\n",
    "\n",
    "print('\\nL1 Regularization Model Report:\\n', classification_report(\n",
    "    y_test, y_pred_l1, \n",
    "    target_names=['Survived', 'Death'])\n",
    "      )\n",
    "\n",
    "print('---' * 18)\n",
    "print('\\nL2 Regularization Model Report:\\n', classification_report(\n",
    "    y_test, y_pred_l2, \n",
    "    target_names=['Survived', 'Death'])\n",
    "      )"
   ]
  },
  {
   "cell_type": "markdown",
   "metadata": {},
   "source": [
    "### 3.6 Model Evaluation (Visualization)"
   ]
  },
  {
   "cell_type": "markdown",
   "metadata": {},
   "source": [
    "#### Plot 1: Confusion Matrix"
   ]
  },
  {
   "cell_type": "code",
   "execution_count": 184,
   "metadata": {},
   "outputs": [
    {
     "data": {
      "image/png": "[encoded data removed]",
      "text/plain": [
       "<Figure size 1500x600 with 4 Axes>"
      ]
     },
     "metadata": {},
     "output_type": "display_data"
    }
   ],
   "source": [
    "# Generate a confusion matrix and visualize it\n",
    "from sklearn.metrics import confusion_matrix\n",
    "\n",
    "# compute the matrix\n",
    "matrixs_l1 = confusion_matrix(y_test, y_pred_l1)\n",
    "matrixs_l2 = confusion_matrix(y_test, y_pred_l2)\n",
    "\n",
    "fig, axes = plt.subplots(1, 2, figsize=(15, 6))\n",
    "\n",
    "# sub plotting\n",
    "sns.heatmap(matrixs_l1, annot=True, fmt='g', cmap='Blues', ax=axes[0], xticklabels=['N', 'P'], yticklabels=['N', 'P'])\n",
    "axes[0].set_title('L1 Regularization Confusion Matrix')\n",
    "axes[0].set_xlabel('Predicted Labels')\n",
    "axes[0].set_ylabel('True Labels')\n",
    "\n",
    "sns.heatmap(matrixs_l2, annot=True, fmt='g', cmap='Reds', ax=axes[1], xticklabels=['N', 'P'], yticklabels=['N', 'P'])\n",
    "axes[1].set_title('L2 Regularization Confusion Matrix')\n",
    "axes[1].set_xlabel('Predicted Labels')\n",
    "axes[1].set_ylabel('True Labels')\n",
    "\n",
    "plt.tight_layout()\n",
    "plt.show()"
   ]
  },
  {
   "cell_type": "markdown",
   "metadata": {},
   "source": [
    "#### Plot 2: ROC Curve\n",
    "\n",
    "`About ROC`\n",
    "- the curve **more near upper left**, the **better model performs** \n",
    "- `AUC`: Area Under the Curve, the value determines good / bad the model performs (positive relationship)\n",
    "\n",
    "    - AUC = 0.5: model preforms random prediction simulation\n",
    "    - AUC = 1: the most perfect model (**threshold level**)\n",
    "    - AUC < 0.5: worst than random prediction\n",
    "\n",
    "- Advantage: fit for unbalanced data distribution `(performs well in class imbalance)`\n",
    "\n",
    "<p style=\"text-align:center;\">\n",
    "  <img src=\"Roc_curve.png\" width=\"300\" />\n",
    "</p>\n",
    "\n"
   ]
  },
  {
   "cell_type": "code",
   "execution_count": 185,
   "metadata": {},
   "outputs": [
    {
     "name": "stdout",
     "output_type": "stream",
     "text": [
      "[[6.92758810e-01 3.07241190e-01]\n",
      " [2.44841148e-07 9.99999755e-01]\n",
      " [6.03871558e-01 3.96128442e-01]]\n",
      "\n",
      " [[6.77569240e-01 3.22430760e-01]\n",
      " [1.90215880e-05 9.99980978e-01]\n",
      " [5.65745607e-01 4.34254393e-01]]\n"
     ]
    },
    {
     "data": {
      "image/png": "[encoded data removed]",
      "text/plain": [
       "<Figure size 600x400 with 1 Axes>"
      ]
     },
     "metadata": {},
     "output_type": "display_data"
    }
   ],
   "source": [
    "# Plot the ROC curve and calculate the AUC\n",
    "from sklearn.metrics import roc_curve, auc\n",
    "\n",
    "# prob transformation\n",
    "y_pred_l1_prob = model_l1.predict_proba(X_test)[:, 1]\n",
    "print(model_l1.predict_proba(X_test)[:3])\n",
    "\n",
    "y_pred_l2_prob = model_l2.predict_proba(X_test)[:, 1]\n",
    "print('\\n', model_l2.predict_proba(X_test)[:3])\n",
    "\n",
    "fpr_l1, tpr_l1, _ = roc_curve(y_test, y_pred_l1_prob)\n",
    "fpr_l2, tpr_l2, _ = roc_curve(y_test, y_pred_l2_prob)\n",
    "\n",
    "# calculate the AUC\n",
    "roc_auc_l1 = auc(fpr_l1, tpr_l1)\n",
    "roc_auc_l2 = auc(fpr_l2, tpr_l2)\n",
    "\n",
    "plt.figure(figsize=(6, 4))\n",
    "\n",
    "# ROC L1\n",
    "plt.plot(fpr_l1, tpr_l1, color='blue', lw=2, label=f'L1 Regularization (AUC = {roc_auc_l1:.2f})')\n",
    "plt.fill_between(fpr_l1, tpr_l1, color='blue', alpha=0.2)\n",
    "\n",
    "# ROC L2\n",
    "plt.plot(fpr_l2, tpr_l2, color='green', lw=2, label=f'L2 Regularization (AUC = {roc_auc_l2:.2f})')\n",
    "plt.fill_between(fpr_l2, tpr_l2, color='green', alpha=0.1)\n",
    "\n",
    "plt.plot([0, 1], [0, 1], color='gray', linestyle='--')\n",
    "\n",
    "plt.title('ROC Curve Comparison')\n",
    "plt.xlabel('False Positive Rate')\n",
    "plt.ylabel('True Positive Rate')\n",
    "\n",
    "plt.show()"
   ]
  },
  {
   "cell_type": "markdown",
   "metadata": {},
   "source": [
    "```\n",
    "L1 Regularization Model Report:\n",
    "               precision    recall  f1-score   support\n",
    "\n",
    "    Survived       0.89      0.99      0.94       123\n",
    "       Death       0.99      0.84      0.90        91\n",
    "\n",
    "    accuracy                           0.93       214\n",
    "   macro avg       0.94      0.91      0.92       214\n",
    "weighted avg       0.93      0.93      0.92       214\n",
    "\n",
    "------------------------------------------------------\n",
    "\n",
    "L2 Regularization Model Report:\n",
    "               precision    recall  f1-score   support\n",
    "\n",
    "    Survived       0.88      0.99      0.93       123\n",
    "       Death       0.99      0.82      0.90        91\n",
    "\n",
    "    accuracy                           0.92       214\n",
    "   macro avg       0.94      0.91      0.92       214\n",
    "weighted avg       0.93      0.92      0.92       214\n",
    "```\n",
    "\n",
    "So, for L1 is better <span style=\"background-color: yellow;\">Choosing L1 Regularization</span>"
   ]
  },
  {
   "cell_type": "markdown",
   "metadata": {},
   "source": [
    "---\n",
    "\n",
    "## 4. Model Optimization"
   ]
  },
  {
   "cell_type": "markdown",
   "metadata": {},
   "source": [
    "### 4.1 Hyperparameter Tuning\n",
    "\n",
    "- `Hyperparameters`: are parameters that need to be manually set before training in machine learning models, such as the maximum depth of decision trees, the C value of support vector machines, etc.\n",
    "\n",
    "- `Grid Search`: refers to traversing the specified hyperparameter space, training and validating each set of hyperparameter combinations, and finding the best hyperparameter combination.\n",
    "\n",
    "- `Cross Validation (CV)`: is a technique for evaluating model performance, dividing the data into multiple subsets, each subset is used as a validation set in turn, and the rest are used as training sets, thereby reducing performance fluctuations caused by different data divisions\n",
    "\n",
    "<p style=\"text-align:center;\">\n",
    "  <img src=\"grid_search.png\" width=\"306\" style=\"display: inline-block; margin-right: 20px;\" />\n",
    "  <img src=\"Using-GridSearch-Technique-to-Determine-Hyperparameters-in-XGBoost-Learning-Method.png\" width=\"300\" style=\"display: inline-block;\" />\n",
    "</p>\n"
   ]
  },
  {
   "cell_type": "markdown",
   "metadata": {},
   "source": [
    "#### Method 1: Grid Search (CV)"
   ]
  },
  {
   "cell_type": "code",
   "execution_count": 186,
   "metadata": {},
   "outputs": [
    {
     "name": "stdout",
     "output_type": "stream",
     "text": [
      "Best hyper param:\n",
      " {'C': 0.1, 'class_weight': 'balanced', 'max_iter': 1000, 'penalty': 'l1', 'solver': 'saga', 'tol': 0.001}\n"
     ]
    }
   ],
   "source": [
    "# Use ‘GridSearchCV’ or ‘RandomizedSearchCV’ to find the best hyperparameters\n",
    "from sklearn.model_selection import GridSearchCV\n",
    "# from sklearn.ensemble import RandomForestClassifier\n",
    "\n",
    "# choosing model with L1 Regularization\n",
    "# model_l1\n",
    "\n",
    "param_grid = {\n",
    "    'C': [0.01, 0.1, 1, 10, 100],\n",
    "    'solver': ['liblinear', 'saga'],\n",
    "    'penalty': ['l1', 'l2'],\n",
    "    'max_iter': [1000],\n",
    "    'tol': [1e-3, 1e-1],\n",
    "    'class_weight': ['balanced']  # 自动调整类别权重\n",
    "}\n",
    "\n",
    "grid_search = GridSearchCV(estimator=model_l1, param_grid=param_grid, cv=5, n_jobs=-1)\n",
    "\n",
    "grid_search.fit(X_train, y_train)\n",
    "\n",
    "print(\"Best hyper param:\\n\", grid_search.best_params_)"
   ]
  },
  {
   "cell_type": "code",
   "execution_count": 187,
   "metadata": {},
   "outputs": [
    {
     "data": {
      "text/html": [
       "<style>#sk-container-id-7 {color: black;}#sk-container-id-7 pre{padding: 0;}#sk-container-id-7 div.sk-toggleable {background-color: white;}#sk-container-id-7 label.sk-toggleable__label {cursor: pointer;display: block;width: 100%;margin-bottom: 0;padding: 0.3em;box-sizing: border-box;text-align: center;}#sk-container-id-7 label.sk-toggleable__label-arrow:before {content: \"▸\";float: left;margin-right: 0.25em;color: #696969;}#sk-container-id-7 label.sk-toggleable__label-arrow:hover:before {color: black;}#sk-container-id-7 div.sk-estimator:hover label.sk-toggleable__label-arrow:before {color: black;}#sk-container-id-7 div.sk-toggleable__content {max-height: 0;max-width: 0;overflow: hidden;text-align: left;background-color: #f0f8ff;}#sk-container-id-7 div.sk-toggleable__content pre {margin: 0.2em;color: black;border-radius: 0.25em;background-color: #f0f8ff;}#sk-container-id-7 input.sk-toggleable__control:checked~div.sk-toggleable__content {max-height: 200px;max-width: 100%;overflow: auto;}#sk-container-id-7 input.sk-toggleable__control:checked~label.sk-toggleable__label-arrow:before {content: \"▾\";}#sk-container-id-7 div.sk-estimator input.sk-toggleable__control:checked~label.sk-toggleable__label {background-color: #d4ebff;}#sk-container-id-7 div.sk-label input.sk-toggleable__control:checked~label.sk-toggleable__label {background-color: #d4ebff;}#sk-container-id-7 input.sk-hidden--visually {border: 0;clip: rect(1px 1px 1px 1px);clip: rect(1px, 1px, 1px, 1px);height: 1px;margin: -1px;overflow: hidden;padding: 0;position: absolute;width: 1px;}#sk-container-id-7 div.sk-estimator {font-family: monospace;background-color: #f0f8ff;border: 1px dotted black;border-radius: 0.25em;box-sizing: border-box;margin-bottom: 0.5em;}#sk-container-id-7 div.sk-estimator:hover {background-color: #d4ebff;}#sk-container-id-7 div.sk-parallel-item::after {content: \"\";width: 100%;border-bottom: 1px solid gray;flex-grow: 1;}#sk-container-id-7 div.sk-label:hover label.sk-toggleable__label {background-color: #d4ebff;}#sk-container-id-7 div.sk-serial::before {content: \"\";position: absolute;border-left: 1px solid gray;box-sizing: border-box;top: 0;bottom: 0;left: 50%;z-index: 0;}#sk-container-id-7 div.sk-serial {display: flex;flex-direction: column;align-items: center;background-color: white;padding-right: 0.2em;padding-left: 0.2em;position: relative;}#sk-container-id-7 div.sk-item {position: relative;z-index: 1;}#sk-container-id-7 div.sk-parallel {display: flex;align-items: stretch;justify-content: center;background-color: white;position: relative;}#sk-container-id-7 div.sk-item::before, #sk-container-id-7 div.sk-parallel-item::before {content: \"\";position: absolute;border-left: 1px solid gray;box-sizing: border-box;top: 0;bottom: 0;left: 50%;z-index: -1;}#sk-container-id-7 div.sk-parallel-item {display: flex;flex-direction: column;z-index: 1;position: relative;background-color: white;}#sk-container-id-7 div.sk-parallel-item:first-child::after {align-self: flex-end;width: 50%;}#sk-container-id-7 div.sk-parallel-item:last-child::after {align-self: flex-start;width: 50%;}#sk-container-id-7 div.sk-parallel-item:only-child::after {width: 0;}#sk-container-id-7 div.sk-dashed-wrapped {border: 1px dashed gray;margin: 0 0.4em 0.5em 0.4em;box-sizing: border-box;padding-bottom: 0.4em;background-color: white;}#sk-container-id-7 div.sk-label label {font-family: monospace;font-weight: bold;display: inline-block;line-height: 1.2em;}#sk-container-id-7 div.sk-label-container {text-align: center;}#sk-container-id-7 div.sk-container {/* jupyter's `normalize.less` sets `[hidden] { display: none; }` but bootstrap.min.css set `[hidden] { display: none !important; }` so we also need the `!important` here to be able to override the default hidden behavior on the sphinx rendered scikit-learn.org. See: https://github.com/scikit-learn/scikit-learn/issues/21755 */display: inline-block !important;position: relative;}#sk-container-id-7 div.sk-text-repr-fallback {display: none;}</style><div id=\"sk-container-id-7\" class=\"sk-top-container\"><div class=\"sk-text-repr-fallback\"><pre>LogisticRegression(C=0.1, class_weight=&#x27;balanced&#x27;, max_iter=1000, penalty=&#x27;l1&#x27;,\n",
       "                   random_state=42, solver=&#x27;saga&#x27;, tol=0.001)</pre><b>In a Jupyter environment, please rerun this cell to show the HTML representation or trust the notebook. <br />On GitHub, the HTML representation is unable to render, please try loading this page with nbviewer.org.</b></div><div class=\"sk-container\" hidden><div class=\"sk-item\"><div class=\"sk-estimator sk-toggleable\"><input class=\"sk-toggleable__control sk-hidden--visually\" id=\"sk-estimator-id-7\" type=\"checkbox\" checked><label for=\"sk-estimator-id-7\" class=\"sk-toggleable__label sk-toggleable__label-arrow\">LogisticRegression</label><div class=\"sk-toggleable__content\"><pre>LogisticRegression(C=0.1, class_weight=&#x27;balanced&#x27;, max_iter=1000, penalty=&#x27;l1&#x27;,\n",
       "                   random_state=42, solver=&#x27;saga&#x27;, tol=0.001)</pre></div></div></div></div></div>"
      ],
      "text/plain": [
       "LogisticRegression(C=0.1, class_weight='balanced', max_iter=1000, penalty='l1',\n",
       "                   random_state=42, solver='saga', tol=0.001)"
      ]
     },
     "execution_count": 187,
     "metadata": {},
     "output_type": "execute_result"
    }
   ],
   "source": [
    "# aggisn the state_dict into the model\n",
    "best_model = grid_search.best_estimator_\n",
    "best_model"
   ]
  },
  {
   "cell_type": "code",
   "execution_count": 188,
   "metadata": {},
   "outputs": [
    {
     "name": "stdout",
     "output_type": "stream",
     "text": [
      "Best Model Report:\n",
      "               precision    recall  f1-score   support\n",
      "\n",
      "    Survived       0.89      0.99      0.94       123\n",
      "       Death       0.99      0.84      0.90        91\n",
      "\n",
      "    accuracy                           0.93       214\n",
      "   macro avg       0.94      0.91      0.92       214\n",
      "weighted avg       0.93      0.93      0.92       214\n",
      "\n"
     ]
    }
   ],
   "source": [
    "y_pred_best = best_model.predict(X_test)\n",
    "\n",
    "print('Best Model Report:\\n', classification_report(\n",
    "    y_test, y_pred_best, \n",
    "    target_names=['Survived', 'Death'])\n",
    "      )\n",
    "\n",
    "y_pred_best_prob = best_model.predict_proba(X_test)[:, 1]\n",
    "# print(best_model.predict_proba(X_test)[:3])\n",
    "\n",
    "fpr_best, tpr_best, _ = roc_curve(y_test, y_pred_best_prob)\n",
    "\n",
    "# calculate the AUC\n",
    "roc_auc_best = auc(fpr_best, tpr_best)"
   ]
  },
  {
   "cell_type": "code",
   "execution_count": 189,
   "metadata": {},
   "outputs": [
    {
     "name": "stdout",
     "output_type": "stream",
     "text": [
      "Best Model Report (Grid Search):\n",
      "               precision    recall  f1-score   support\n",
      "\n",
      "    Survived       0.89      0.99      0.94       123\n",
      "       Death       0.99      0.84      0.90        91\n",
      "\n",
      "    accuracy                           0.93       214\n",
      "   macro avg       0.94      0.91      0.92       214\n",
      "weighted avg       0.93      0.93      0.92       214\n",
      "\n",
      "------------------------------------------------------------\n",
      "\n",
      "Previous Model Report:\n",
      "               precision    recall  f1-score   support\n",
      "\n",
      "    Survived       0.88      0.99      0.93       123\n",
      "       Death       0.99      0.82      0.90        91\n",
      "\n",
      "    accuracy                           0.92       214\n",
      "   macro avg       0.94      0.91      0.92       214\n",
      "weighted avg       0.93      0.92      0.92       214\n",
      "\n"
     ]
    },
    {
     "data": {
      "image/png": "[encoded data removed]",
      "text/plain": [
       "<Figure size 500x300 with 1 Axes>"
      ]
     },
     "metadata": {},
     "output_type": "display_data"
    }
   ],
   "source": [
    "# Evaluate the model with the best parameters on the test set\n",
    "\n",
    "# Best Model\n",
    "y_pred_best = best_model.predict(X_test)\n",
    "\n",
    "print('Best Model Report (Grid Search):\\n', classification_report(\n",
    "    y_test, y_pred_best, \n",
    "    target_names=['Survived', 'Death'])\n",
    "      )\n",
    "\n",
    "print('---' * 20)\n",
    "print()\n",
    "y_pred_best_prob = best_model.predict_proba(X_test)[:, 1]\n",
    "# print(best_model.predict_proba(X_test)[:3])\n",
    "\n",
    "fpr_best, tpr_best, _ = roc_curve(y_test, y_pred_best_prob)\n",
    "\n",
    "# calculate the AUC\n",
    "roc_auc_best = auc(fpr_best, tpr_best)\n",
    "\n",
    "########################################################################\n",
    "\n",
    "# Previous Model\n",
    "print('Previous Model Report:\\n', classification_report(\n",
    "    y_test, y_pred_l2, \n",
    "    target_names=['Survived', 'Death'])\n",
    "      )\n",
    "\n",
    "# plotting\n",
    "plt.figure(figsize=(5, 3))\n",
    "\n",
    "# ROC L1\n",
    "plt.plot(fpr_l1, tpr_l1, color='blue', lw=2, label=f'Previous Regularization (AUC = {roc_auc_l2:.2f})')\n",
    "plt.fill_between(fpr_l1, tpr_l1, color='blue', alpha=0.2)\n",
    "\n",
    "plt.plot(fpr_best, tpr_best, color='red', lw=2, label=f'Best Regularization (AUC = {roc_auc_best:.2f})')\n",
    "plt.fill_between(fpr_best, tpr_best, color='red', alpha=0.1)\n",
    "\n",
    "plt.plot([0, 1], [0, 1], color='gray', linestyle='--')\n",
    "\n",
    "plt.title('Comparision of Previous & Updated')\n",
    "plt.xlabel('False Positive Rate')\n",
    "plt.ylabel('True Positive Rate')\n",
    "\n",
    "plt.show()"
   ]
  },
  {
   "cell_type": "markdown",
   "metadata": {},
   "source": [
    "---\n",
    "#### Method 2: RandomizedSearchCV"
   ]
  },
  {
   "cell_type": "code",
   "execution_count": 190,
   "metadata": {},
   "outputs": [
    {
     "name": "stdout",
     "output_type": "stream",
     "text": [
      "Best hyper parameters:\n",
      " {'C': 72.83163486118596, 'class_weight': 'balanced', 'max_iter': 1000, 'penalty': 'l2', 'solver': 'liblinear', 'tol': 0.06423058305935796}\n"
     ]
    }
   ],
   "source": [
    "from sklearn.model_selection import RandomizedSearchCV\n",
    "from scipy.stats import uniform\n",
    "\n",
    "# choosing model with L1 Regularization\n",
    "# model_l1\n",
    "\n",
    "# Define the hyperparameter distribution for RandomizedSearchCV\n",
    "param_dist = {\n",
    "    'C': uniform(0.01, 100),  # Uniform distribution for C (from 0.01 to 100)\n",
    "    'solver': ['liblinear', 'saga'],\n",
    "    'penalty': ['l1', 'l2'],\n",
    "    'max_iter': [1000],\n",
    "    'tol': uniform(1e-3, 1e-1),  # Random distribution for tolerance\n",
    "    'class_weight': ['balanced']  # Automatically adjust class weights\n",
    "}\n",
    "\n",
    "# Using RandomizedSearchCV with 5-fold cross-validation and n_jobs=-1 for parallel processing\n",
    "random_search = RandomizedSearchCV(estimator=model_l1, param_distributions=param_dist, n_iter=100, cv=5, n_jobs=-1, random_state=42)\n",
    "\n",
    "# Fit the model\n",
    "random_search.fit(X_train, y_train)\n",
    "\n",
    "# Print the best hyperparameters\n",
    "print(\"Best hyper parameters:\\n\", random_search.best_params_)"
   ]
  },
  {
   "cell_type": "code",
   "execution_count": 191,
   "metadata": {},
   "outputs": [
    {
     "data": {
      "text/html": [
       "<style>#sk-container-id-8 {color: black;}#sk-container-id-8 pre{padding: 0;}#sk-container-id-8 div.sk-toggleable {background-color: white;}#sk-container-id-8 label.sk-toggleable__label {cursor: pointer;display: block;width: 100%;margin-bottom: 0;padding: 0.3em;box-sizing: border-box;text-align: center;}#sk-container-id-8 label.sk-toggleable__label-arrow:before {content: \"▸\";float: left;margin-right: 0.25em;color: #696969;}#sk-container-id-8 label.sk-toggleable__label-arrow:hover:before {color: black;}#sk-container-id-8 div.sk-estimator:hover label.sk-toggleable__label-arrow:before {color: black;}#sk-container-id-8 div.sk-toggleable__content {max-height: 0;max-width: 0;overflow: hidden;text-align: left;background-color: #f0f8ff;}#sk-container-id-8 div.sk-toggleable__content pre {margin: 0.2em;color: black;border-radius: 0.25em;background-color: #f0f8ff;}#sk-container-id-8 input.sk-toggleable__control:checked~div.sk-toggleable__content {max-height: 200px;max-width: 100%;overflow: auto;}#sk-container-id-8 input.sk-toggleable__control:checked~label.sk-toggleable__label-arrow:before {content: \"▾\";}#sk-container-id-8 div.sk-estimator input.sk-toggleable__control:checked~label.sk-toggleable__label {background-color: #d4ebff;}#sk-container-id-8 div.sk-label input.sk-toggleable__control:checked~label.sk-toggleable__label {background-color: #d4ebff;}#sk-container-id-8 input.sk-hidden--visually {border: 0;clip: rect(1px 1px 1px 1px);clip: rect(1px, 1px, 1px, 1px);height: 1px;margin: -1px;overflow: hidden;padding: 0;position: absolute;width: 1px;}#sk-container-id-8 div.sk-estimator {font-family: monospace;background-color: #f0f8ff;border: 1px dotted black;border-radius: 0.25em;box-sizing: border-box;margin-bottom: 0.5em;}#sk-container-id-8 div.sk-estimator:hover {background-color: #d4ebff;}#sk-container-id-8 div.sk-parallel-item::after {content: \"\";width: 100%;border-bottom: 1px solid gray;flex-grow: 1;}#sk-container-id-8 div.sk-label:hover label.sk-toggleable__label {background-color: #d4ebff;}#sk-container-id-8 div.sk-serial::before {content: \"\";position: absolute;border-left: 1px solid gray;box-sizing: border-box;top: 0;bottom: 0;left: 50%;z-index: 0;}#sk-container-id-8 div.sk-serial {display: flex;flex-direction: column;align-items: center;background-color: white;padding-right: 0.2em;padding-left: 0.2em;position: relative;}#sk-container-id-8 div.sk-item {position: relative;z-index: 1;}#sk-container-id-8 div.sk-parallel {display: flex;align-items: stretch;justify-content: center;background-color: white;position: relative;}#sk-container-id-8 div.sk-item::before, #sk-container-id-8 div.sk-parallel-item::before {content: \"\";position: absolute;border-left: 1px solid gray;box-sizing: border-box;top: 0;bottom: 0;left: 50%;z-index: -1;}#sk-container-id-8 div.sk-parallel-item {display: flex;flex-direction: column;z-index: 1;position: relative;background-color: white;}#sk-container-id-8 div.sk-parallel-item:first-child::after {align-self: flex-end;width: 50%;}#sk-container-id-8 div.sk-parallel-item:last-child::after {align-self: flex-start;width: 50%;}#sk-container-id-8 div.sk-parallel-item:only-child::after {width: 0;}#sk-container-id-8 div.sk-dashed-wrapped {border: 1px dashed gray;margin: 0 0.4em 0.5em 0.4em;box-sizing: border-box;padding-bottom: 0.4em;background-color: white;}#sk-container-id-8 div.sk-label label {font-family: monospace;font-weight: bold;display: inline-block;line-height: 1.2em;}#sk-container-id-8 div.sk-label-container {text-align: center;}#sk-container-id-8 div.sk-container {/* jupyter's `normalize.less` sets `[hidden] { display: none; }` but bootstrap.min.css set `[hidden] { display: none !important; }` so we also need the `!important` here to be able to override the default hidden behavior on the sphinx rendered scikit-learn.org. See: https://github.com/scikit-learn/scikit-learn/issues/21755 */display: inline-block !important;position: relative;}#sk-container-id-8 div.sk-text-repr-fallback {display: none;}</style><div id=\"sk-container-id-8\" class=\"sk-top-container\"><div class=\"sk-text-repr-fallback\"><pre>LogisticRegression(C=72.83163486118596, class_weight=&#x27;balanced&#x27;, max_iter=1000,\n",
       "                   random_state=42, solver=&#x27;liblinear&#x27;,\n",
       "                   tol=0.06423058305935796)</pre><b>In a Jupyter environment, please rerun this cell to show the HTML representation or trust the notebook. <br />On GitHub, the HTML representation is unable to render, please try loading this page with nbviewer.org.</b></div><div class=\"sk-container\" hidden><div class=\"sk-item\"><div class=\"sk-estimator sk-toggleable\"><input class=\"sk-toggleable__control sk-hidden--visually\" id=\"sk-estimator-id-8\" type=\"checkbox\" checked><label for=\"sk-estimator-id-8\" class=\"sk-toggleable__label sk-toggleable__label-arrow\">LogisticRegression</label><div class=\"sk-toggleable__content\"><pre>LogisticRegression(C=72.83163486118596, class_weight=&#x27;balanced&#x27;, max_iter=1000,\n",
       "                   random_state=42, solver=&#x27;liblinear&#x27;,\n",
       "                   tol=0.06423058305935796)</pre></div></div></div></div></div>"
      ],
      "text/plain": [
       "LogisticRegression(C=72.83163486118596, class_weight='balanced', max_iter=1000,\n",
       "                   random_state=42, solver='liblinear',\n",
       "                   tol=0.06423058305935796)"
      ]
     },
     "execution_count": 191,
     "metadata": {},
     "output_type": "execute_result"
    }
   ],
   "source": [
    "best_model1 = random_search.best_estimator_\n",
    "best_model1"
   ]
  },
  {
   "cell_type": "code",
   "execution_count": 192,
   "metadata": {},
   "outputs": [
    {
     "name": "stdout",
     "output_type": "stream",
     "text": [
      "Best Model Report (Random Search):\n",
      "               precision    recall  f1-score   support\n",
      "\n",
      "    Survived       0.91      0.98      0.94       123\n",
      "       Death       0.96      0.87      0.91        91\n",
      "\n",
      "    accuracy                           0.93       214\n",
      "   macro avg       0.94      0.92      0.93       214\n",
      "weighted avg       0.93      0.93      0.93       214\n",
      "\n",
      "------------------------------------------------------------\n",
      "\n",
      "Previous Model Report:\n",
      "               precision    recall  f1-score   support\n",
      "\n",
      "    Survived       0.89      0.99      0.94       123\n",
      "       Death       0.99      0.84      0.90        91\n",
      "\n",
      "    accuracy                           0.93       214\n",
      "   macro avg       0.94      0.91      0.92       214\n",
      "weighted avg       0.93      0.93      0.92       214\n",
      "\n"
     ]
    },
    {
     "data": {
      "image/png": "[encoded data removed]",
      "text/plain": [
       "<Figure size 500x300 with 1 Axes>"
      ]
     },
     "metadata": {},
     "output_type": "display_data"
    }
   ],
   "source": [
    "# Evaluate the model with the best parameters on the test set\n",
    "\n",
    "# Best Model\n",
    "y_pred_best1 = best_model1.predict(X_test)\n",
    "\n",
    "print('Best Model Report (Random Search):\\n', classification_report(\n",
    "    y_test, y_pred_best1, \n",
    "    target_names=['Survived', 'Death'])\n",
    "      )\n",
    "\n",
    "print('---' * 20)\n",
    "print()\n",
    "y_pred_best_prob1 = best_model.predict_proba(X_test)[:, 1]\n",
    "# print(best_model.predict_proba(X_test)[:3])\n",
    "\n",
    "fpr_best1, tpr_best1, _ = roc_curve(y_test, y_pred_best_prob1)\n",
    "\n",
    "# calculate the AUC\n",
    "roc_auc_best1 = auc(fpr_best1, tpr_best1)\n",
    "\n",
    "########################################################################\n",
    "\n",
    "# Previous Model\n",
    "print('Previous Model Report:\\n', classification_report(\n",
    "    y_test, y_pred_l1, \n",
    "    target_names=['Survived', 'Death'])\n",
    "      )\n",
    "\n",
    "# plotting\n",
    "plt.figure(figsize=(5, 3))\n",
    "\n",
    "# ROC Grid Search\n",
    "plt.plot(fpr_best, tpr_best, color='blue', lw=2, label=f'Best Regularization (AUC = {roc_auc_best:.2f})')\n",
    "plt.fill_between(fpr_best, tpr_best1, color='blue', alpha=0.1)\n",
    "\n",
    "plt.plot(fpr_best1, tpr_best1, color='red', lw=2, label=f'Best Regularization (AUC = {roc_auc_best1:.2f})')\n",
    "plt.fill_between(fpr_best1, tpr_best1, color='red', alpha=0.1)\n",
    "\n",
    "plt.plot([0, 1], [0, 1], color='gray', linestyle='--')\n",
    "\n",
    "plt.title('Comparision of Previous & Updated')\n",
    "plt.xlabel('False Positive Rate')\n",
    "plt.ylabel('True Positive Rate')\n",
    "\n",
    "plt.show()"
   ]
  },
  {
   "cell_type": "markdown",
   "metadata": {},
   "source": [
    "so, no obvious improvement for Random Search..."
   ]
  },
  {
   "cell_type": "markdown",
   "metadata": {},
   "source": [
    "---\n",
    "\n",
    "## 5. Model Deployment"
   ]
  },
  {
   "cell_type": "markdown",
   "metadata": {},
   "source": [
    "### 5.1 Model Saving"
   ]
  },
  {
   "cell_type": "code",
   "execution_count": 193,
   "metadata": {},
   "outputs": [
    {
     "data": {
      "text/plain": [
       "['titanic_analysis.pkl']"
      ]
     },
     "execution_count": 193,
     "metadata": {},
     "output_type": "execute_result"
    }
   ],
   "source": [
    "import joblib\n",
    "\n",
    "# save the model into a file\n",
    "joblib.dump(best_model, 'titanic_analysis.pkl')"
   ]
  },
  {
   "cell_type": "markdown",
   "metadata": {},
   "source": [
    "### 5.2 Model Deployment using Function to Implement"
   ]
  },
  {
   "cell_type": "markdown",
   "metadata": {},
   "source": [
    "```python\n",
    "# python prediction.py titanic.csv titanic.pkl\n",
    "predict('titanic.csv', 'titanic_analysis.pkl')\n",
    "```"
   ]
  },
  {
   "cell_type": "code",
   "execution_count": 194,
   "metadata": {},
   "outputs": [],
   "source": [
    "def predict(data_path, model_path):\n",
    "        # pkl as surffix name\n",
    "        model = joblib.load(model_path)\n",
    "\n",
    "        # csv file input\n",
    "        new_data = pd.read_csv(data_path)\n",
    "\n",
    "        # make prediction\n",
    "        predictions = model.predict(new_data)\n",
    "\n",
    "        print(predictions)"
   ]
  },
  {
   "cell_type": "code",
   "execution_count": 195,
   "metadata": {},
   "outputs": [],
   "source": [
    "# predict('titanic.csv', 'titanic_analysis.pkl')"
   ]
  },
  {
   "cell_type": "markdown",
   "metadata": {},
   "source": [
    "### 5.3 Command Line Conduction"
   ]
  },
  {
   "cell_type": "markdown",
   "metadata": {},
   "source": [
    "```predition.py File```\n",
    "\n",
    "- Run Command By: \n",
    "```\n",
    "python prediction.py titanic.csv titanic.pkl\n",
    "```"
   ]
  },
  {
   "cell_type": "markdown",
   "metadata": {},
   "source": [
    "```python\n",
    "import argparse\n",
    "import pandas as pd\n",
    "import joblib\n",
    "\n",
    "parser = argparse.ArgumentParser(description='Predict data classification using a specified model')\n",
    "\n",
    "parser.add_argument('input_file', type=str, help='Path to the CSV file for prediction')\n",
    "parser.add_argument('model_path', type=str, help='Path to the trained model file')\n",
    "\n",
    "args = parser.parse_args()\n",
    "\n",
    "# load in command's input\n",
    "model = joblib.load(args.model_path)\n",
    "new_data = pd.read_csv(args.input_file)\n",
    "\n",
    "predictions = model_l1.predict(new_data)\n",
    "\n",
    "print(\"Predictions:\", predictions)\n",
    "```"
   ]
  }
 ],
 "metadata": {
  "interpreter": {
   "hash": "467b6b8d84ec57276b6be9f682d202a809005a551e3a3122de8a234a796670d7"
  },
  "kernelspec": {
   "display_name": "Python 3.11.5 ('base')",
   "language": "python",
   "name": "python3"
  },
  "language_info": {
   "codemirror_mode": {
    "name": "ipython",
    "version": 3
   },
   "file_extension": ".py",
   "mimetype": "text/x-python",
   "name": "python",
   "nbconvert_exporter": "python",
   "pygments_lexer": "ipython3",
   "version": "3.11.5"
  },
  "orig_nbformat": 4
 },
 "nbformat": 4,
 "nbformat_minor": 2
}
